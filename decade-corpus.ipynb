{
 "cells": [
  {
   "cell_type": "markdown",
   "metadata": {},
   "source": [
    "# Generate a Corpus of British Literature, 1840-1860\n",
    "\n",
    "Here I'll be using the database I generated for the Corpus-DB project to generate a corpus of British literature from around 1840-1860, roughly surrounding our 1851 census data. "
   ]
  },
  {
   "cell_type": "code",
   "execution_count": 2,
   "metadata": {},
   "outputs": [],
   "source": [
    "import sqlite3"
   ]
  },
  {
   "cell_type": "code",
   "execution_count": 4,
   "metadata": {},
   "outputs": [],
   "source": [
    "dbPath = '/home/jon/Code/gitenberg-scrape/pg-text-7.db'"
   ]
  },
  {
   "cell_type": "code",
   "execution_count": 5,
   "metadata": {},
   "outputs": [],
   "source": [
    "conn = sqlite3.connect(dbPath)"
   ]
  },
  {
   "cell_type": "code",
   "execution_count": 6,
   "metadata": {},
   "outputs": [],
   "source": [
    "cur = conn.cursor()"
   ]
  },
  {
   "cell_type": "markdown",
   "metadata": {},
   "source": [
    "Grab all texts with the Library of Congress category (LCC) of \"PR\" (British literature) that GoodReads tells us were published between 1840 and 1860. Limit to only those written in English."
   ]
  },
  {
   "cell_type": "code",
   "execution_count": 120,
   "metadata": {},
   "outputs": [
    {
     "data": {
      "text/plain": [
       "<sqlite3.Cursor at 0x7ff2e8d0f570>"
      ]
     },
     "execution_count": 120,
     "metadata": {},
     "output_type": "execute_result"
    }
   ],
   "source": [
    "cur.execute(\"\"\"SELECT title, id, gr_pubDate \n",
    "               from meta \n",
    "               where \"LCC\" like \"%PR%\" \n",
    "               and gr_pubDate > 1839 and gr_pubdate < 1860 \n",
    "               and languages like \"%en%\" \"\"\")"
   ]
  },
  {
   "cell_type": "code",
   "execution_count": 36,
   "metadata": {},
   "outputs": [],
   "source": [
    "data = cur.fetchall()"
   ]
  },
  {
   "cell_type": "code",
   "execution_count": 38,
   "metadata": {},
   "outputs": [
    {
     "data": {
      "text/plain": [
       "132"
      ]
     },
     "execution_count": 38,
     "metadata": {},
     "output_type": "execute_result"
    }
   ],
   "source": [
    "len(data)"
   ]
  },
  {
   "cell_type": "code",
   "execution_count": 50,
   "metadata": {},
   "outputs": [
    {
     "data": {
      "text/plain": [
       "[('A Book of Nonsense', '13646.0', '1846--'),\n",
       " (\"A Child's Dream of a Star\", '42232.0', '1850-3-18'),\n",
       " ('A Christmas Carol', '19337.0', '1843--'),\n",
       " ('A Christmas Carol', '24022.0', '1843--'),\n",
       " ('A Christmas Carol in Prose; Being a Ghost Story of Christmas',\n",
       "  '46.0',\n",
       "  '1843-12-19'),\n",
       " ('A Christmas Carol: The original manuscript', '30368.0', '1843--'),\n",
       " ('A Fair Penitent', '2006.0', '1857-7-18'),\n",
       " ('A House to Let', '2324.0', '1858--'),\n",
       " ('A Tale of Two Cities', '98.0', '1859--'),\n",
       " ('Adam Bede', '507.0', '1859--'),\n",
       " (\"Agatha's Husband: A Novel\", '21767.0', '1853--'),\n",
       " ('Agnes Grey', '767.0', '1847--'),\n",
       " ('Alton Locke, Tailor and Poet: An Autobiography', '8374.0', '1850--'),\n",
       " ('Amours De Voyage', '1393.0', '1858--'),\n",
       " ('Ancient Poems, Ballads, and Songs of the Peasantry of England',\n",
       "  '649.0',\n",
       "  '1846--'),\n",
       " ('Antonina; Or, The Fall of Rome', '3606.0', '1850--'),\n",
       " (\"Arthur O'Leary: His Wanderings And Ponderings In Many Lands\",\n",
       "  '32424.0',\n",
       "  '1845--'),\n",
       " ('Autobiographic Sketches', '7306.0', '1853--'),\n",
       " ('Barchester Towers', '2432.0', '1857--'),\n",
       " ('Barchester Towers', '3409.0', '1857--'),\n",
       " ('Barry Lyndon', '4558.0', '1844--'),\n",
       " ('Basil', '4605.0', '1852--'),\n",
       " ('Bleak House', '1023.0', '1853--'),\n",
       " ('Box and Cox: A Romance of Real Life in One Act.', '42523.0', '1846--'),\n",
       " ('Catherine: A Story', '1969.0', '1840--'),\n",
       " (\"Charles O'Malley, The Irish Dragoon, Volume 1\", '8577.0', '1841--'),\n",
       " ('Confessions Of Con Cregan, the Irish Gil Blas', '32060.0', '1849--'),\n",
       " ('Coningsby; Or, The New Generation', '7412.0', '1844--'),\n",
       " ('David Copperfield', '766.0', '1849--'),\n",
       " ('Doctor Thorne', '3166.0', '1858--'),\n",
       " ('Dombey and Son', '821.0', '1848--'),\n",
       " ('Dramatic Romances', '4253.0', '1845--'),\n",
       " ('Going into Society', '1422.0', '1859--'),\n",
       " ('Hard Times', '786.0', '1854--'),\n",
       " ('It Is Never Too Late to Mend', '4606.0', '1856--'),\n",
       " ('Jack Sheppard: A Romance, Vol. 3 (of 3)', '44523.0', '1840--'),\n",
       " ('Jane Eyre: An Autobiography', '1260.0', '1847--'),\n",
       " ('John Halifax, Gentleman', '2351.0', '1856--'),\n",
       " ('La Vendée', '5709.0', '1850--'),\n",
       " ('Lavengro: The Scholar - The Gypsy - The Priest, Vol. 1 (of 2)',\n",
       "  '22877.0',\n",
       "  '1851--'),\n",
       " ('Life of John Sterling', '1085.0', '1851--'),\n",
       " ('Little Dorrit', '963.0', '1855--'),\n",
       " ('Martin Chuzzlewit', '968.0', '1844--'),\n",
       " ('Masterman Ready', '1412.0', '1841--'),\n",
       " ('Maurice Tiernay, Soldier of Fortune', '32425.0', '1855--'),\n",
       " (\"Men's Wives\", '1985.0', '1852--'),\n",
       " ('Merkland; or, Self Sacrifice', '43811.0', '1854--'),\n",
       " (\"Mrs. Caudle's Curtain Lectures\", '44904.0', '1846--'),\n",
       " (\"Mrs. Caudle's Curtain Lectures\", '6054.0', '1846--'),\n",
       " ('Nicholas Nickleby', '967.0', '1839--'),\n",
       " ('On Heroes, Hero-Worship, and the Heroic in History', '1091.0', '1841--'),\n",
       " ('Peg Woffington', '3670.0', '1852--'),\n",
       " ('Personal Recollections: Abridged, Chiefly in Parts Pertaining to Political and Other Controversies Prevalent at the Time in Great Britain',\n",
       "  '8114.0',\n",
       "  '1841-3-24'),\n",
       " ('Poems by Currer, Ellis, and Acton Bell', '1019.0', '1846--'),\n",
       " ('Prefaces to Fiction', '14525.0', '1847--'),\n",
       " ('Scenes of Clerical Life', '17780.0', '1857--'),\n",
       " ('Shirley', '30486.0', '1849--'),\n",
       " ('Sketches of Young Couples', '916.0', '1843--'),\n",
       " ('Sonnets from the Portuguese', '2002.0', '1850--'),\n",
       " ('Sybil, Or, The Two Nations', '3760.0', '1845--'),\n",
       " ('The Abbot', '6407.0', '1858--'),\n",
       " (\"The Baron's Yule Feast: A Christmas Rhyme\", '29722.0', '1846-1-1'),\n",
       " ('The Battle of Life', '676.0', '1846--'),\n",
       " ('The Battle of Life. A Love Story', '40723.0', '1846--'),\n",
       " ('The Bedford-Row Conspiracy', '1990.0', '1856--'),\n",
       " ('The Bertrams', '26001.0', '1859--'),\n",
       " ('The Billow and the Rock', '23115.0', '1846--'),\n",
       " ('The Black Baronet; or, The Chronicles Of Ballytrain: The Works of William Carleton, Volume One',\n",
       "  '16003.0',\n",
       "  '1852--'),\n",
       " ('The Black Prophet: A Tale Of Irish Famine: Traits And Stories Of The Irish Peasantry, The Works of; William Carleton, Volume Three',\n",
       "  '16018.0',\n",
       "  '1847--'),\n",
       " ('The Book of Nonsense', '982.0', '1846--'),\n",
       " ('The Book of Snobs', '2686.0', '1848--'),\n",
       " ('The Chimes: A Goblin Story of Some Bells That Rang an Old Year out and a New Year In',\n",
       "  '653.0',\n",
       "  '1844--'),\n",
       " ('The Cloister and the Hearth', '1366.0', '1859--'),\n",
       " ('The Complete Poetical Works of Percy Bysshe Shelley — Complete',\n",
       "  '4800.0',\n",
       "  '1839-1-1'),\n",
       " ('The Confessions of Harry Lorrequer — Complete', '5240.0', '1839--'),\n",
       " ('The Cricket on the Hearth', '20795.0', '1845--'),\n",
       " ('The Cricket on the Hearth: A Fairy Tale of Home', '37581.0', '1845--'),\n",
       " ('The Cricket on the Hearth: A Fairy Tale of Home', '678.0', '1845--'),\n",
       " ('The Dead Secret: A Novel', '43092.0', '1856--'),\n",
       " ('The Defence of Guenevere and Other Poems', '22650.0', '1858--'),\n",
       " (\"The Diary and Letters of Madame D'Arblay — Volume 2\", '6042.0', '1842--'),\n",
       " (\"The Diary and Letters of Madame D'Arblay — Volume 3\", '6457.0', '1842--'),\n",
       " ('The English Mail-Coach and Joan of Arc', '6359.0', '1849--'),\n",
       " ('The Fitz-Boodle Papers', '2823.0', '1850--'),\n",
       " ('The Frozen Deep', '1625.0', '1857--'),\n",
       " ('The History of Pendennis', '7265.0', '1848--'),\n",
       " ('The History of Samuel Titmarsh, and The Great Hoggarty Diamond',\n",
       "  '1933.0',\n",
       "  '1848--'),\n",
       " (\"The Kellys and the O'Kellys\", '4917.0', '1848--'),\n",
       " ('The King of the Golden River', '701.0', '1851--'),\n",
       " ('The Lazy Tour of Two Idle Apprentices', '888.0', '1857--'),\n",
       " ('The Lifted Veil', '2165.0', '1859-7-'),\n",
       " ('The Little Savage', '6897.0', '1849--'),\n",
       " ('The Macdermots of Ballycloran', '29000.0', '1847--'),\n",
       " (\"The Martins Of Cro' Martin, Vol. I (of II)\", '35143.0', '1854--'),\n",
       " ('The Modern Scottish Minstrel, Volume 1.: The Songs of Scotland of the Past Half Century',\n",
       "  '18396.0',\n",
       "  '1855--'),\n",
       " ('The Modern Scottish Minstrel, Volume 2.: The Songs of Scotland of the Past Half Century',\n",
       "  '18619.0',\n",
       "  '1855--'),\n",
       " ('The Modern Scottish Minstrel, Volume 3.: The Songs of Scotland of the Past Half Century',\n",
       "  '19385.0',\n",
       "  '1856--'),\n",
       " ('The Modern Scottish Minstrel, Volume 4.: The Songs of Scotland of the Past Half Century',\n",
       "  '19525.0',\n",
       "  '1856--'),\n",
       " ('The Modern Scottish Minstrel, Volume 6.: The Songs of Scotland of the Past Half Century',\n",
       "  '22229.0',\n",
       "  '1855--'),\n",
       " ('The Old Curiosity Shop', '700.0', '1840--'),\n",
       " ('The Ordeal of Richard Feverel — Complete', '4412.0', '1859--'),\n",
       " ('The Peasant and the Prince', '23275.0', '1856--'),\n",
       " ('The Perils of Certain English Prisoners', '1406.0', '1857--'),\n",
       " ('The Phantom Ship', '12954.0', '1839--'),\n",
       " ('The Phantom Ship', '21573.0', '1839--'),\n",
       " ('The Plant Hunters: Adventures Among the Himalaya Mountains',\n",
       "  '27981.0',\n",
       "  '1858--'),\n",
       " ('The Professor', '1028.0', '1857--'),\n",
       " ('The Quadroon: Adventures in the Far West', '27913.0', '1856--'),\n",
       " ('The Romany Rye', '422.0', '1857--'),\n",
       " ('The Rose and the Ring', '897.0', '1855--'),\n",
       " (\"The Saint's Tragedy\", '11346.0', '1848--'),\n",
       " ('The Settlers in Canada', '22496.0', '1844--'),\n",
       " ('The Settlers in Canada', '24211.0', '1844--'),\n",
       " ('The Seven Poor Travellers', '1392.0', '1854--'),\n",
       " ('The Shaving of Shagpat; an Arabian entertainment — Complete',\n",
       "  '4405.0',\n",
       "  '1856--'),\n",
       " ('The Shaving of Shagpat; an Arabian entertainment — Volume 1',\n",
       "  '4401.0',\n",
       "  '1856--'),\n",
       " ('The Shaving of Shagpat; an Arabian entertainment — Volume 2',\n",
       "  '4402.0',\n",
       "  '1856--'),\n",
       " ('The Shaving of Shagpat; an Arabian entertainment — Volume 4',\n",
       "  '4404.0',\n",
       "  '1856--'),\n",
       " ('The Tenant of Wildfell Hall', '969.0', '1848-6-'),\n",
       " ('The Three Clerks', '7481.0', '1858--'),\n",
       " ('The Tremendous Adventures of Major Gahagan', '1935.0', '1855--'),\n",
       " ('The Vale of Cedars; Or, The Martyr', '12725.0', '1850--'),\n",
       " ('The Warden', '619.0', '1855--'),\n",
       " ('The Woman in White', '583.0', '1859-11-26'),\n",
       " ('The Works of Sir Thomas Browne, Volume 2', '39961.0', '1852-1-1'),\n",
       " ('The Wreck of the Golden Mary', '1465.0', '1856--'),\n",
       " ('Theological Essays and Other Papers — Volume 2', '6660.0', '1854--'),\n",
       " ('Vanity Fair', '599.0', '1847--'),\n",
       " ('Villette', '9182.0', '1853--'),\n",
       " ('Windsor Castle', '2866.0', '1843--'),\n",
       " ('Wuthering Heights', '768.0', '1847--'),\n",
       " ('Yeast: a Problem', '10364.0', '1848--')]"
      ]
     },
     "execution_count": 50,
     "metadata": {},
     "output_type": "execute_result"
    }
   ],
   "source": [
    "sorted(data)"
   ]
  },
  {
   "cell_type": "code",
   "execution_count": 98,
   "metadata": {},
   "outputs": [],
   "source": [
    "# Remove duplicates.\n",
    "# 1. If there is more than one book with the same title, take the book with the highest ID.\n",
    "# (I.e., the one released by PG the latest, since it's more likely to be a better edition.)\n",
    "# 2. If a book has a \"complete\" edition, and also exists in several volumes, throw out\n",
    "# the volumes in favor of the complete edition. \n",
    "dupes = [19337, 46, 30368, 2432, 6054, 20795, 678, 12954, 22496, 4401, 4402, 4404]"
   ]
  },
  {
   "cell_type": "markdown",
   "metadata": {},
   "source": [
    "What if we look for works with publication dates learned from Wikipedia? "
   ]
  },
  {
   "cell_type": "code",
   "execution_count": 42,
   "metadata": {},
   "outputs": [
    {
     "data": {
      "text/plain": [
       "<sqlite3.Cursor at 0x7ff2e8d0f570>"
      ]
     },
     "execution_count": 42,
     "metadata": {},
     "output_type": "execute_result"
    }
   ],
   "source": [
    "cur.execute('SELECT title, id, wp_publication_date from meta where \"LCC\" like \"%PR%\" and languages like \"%en%\"')"
   ]
  },
  {
   "cell_type": "code",
   "execution_count": 43,
   "metadata": {},
   "outputs": [],
   "source": [
    "wpData = cur.fetchall()"
   ]
  },
  {
   "cell_type": "code",
   "execution_count": 48,
   "metadata": {},
   "outputs": [
    {
     "data": {
      "text/plain": [
       "[(\"Alice's Adventures in Wonderland\", '11.0', '1865-11-26'),\n",
       " ('Peter Pan', '16.0', '--10-11'),\n",
       " ('The Voyage Out', '144.0', '1915-03-26'),\n",
       " ('Black Beauty', '271.0', '1877-11-24'),\n",
       " ('Prince Otto, a Romance', '372.0', '1885-11-01'),\n",
       " ('The Warden', '619.0', '1855-01-05'),\n",
       " (\"The Haunted Man and the Ghost's Bargain\", '644.0', '1848-12-19'),\n",
       " ('The Cricket on the Hearth: A Fairy Tale of Home', '678.0', '1845-12-20'),\n",
       " (\"Alice's Adventures in Wonderland: HTML Edition\", '928.0', '1865-11-26'),\n",
       " ('Night and Day', '1245.0', '1919-10-20'),\n",
       " ('Jane Eyre: An Autobiography', '1260.0', '1847-10-16'),\n",
       " ('Pride and Prejudice', '1342.0', '1813-01-28'),\n",
       " ('The Talisman', '1377.0', '1825-06-22'),\n",
       " ('The Black Dwarf', '1460.0', '1816-12-02'),\n",
       " ('Kenilworth', '1606.0', '1821-01-08'),\n",
       " ('The Adventures of Sherlock Holmes', '1661.0', '1892-10-14'),\n",
       " ('Zuleika Dobson; Or, An Oxford Love Story', '1845.0', '1911-10-26'),\n",
       " ('The Red House Mystery', '1872.0', '1922-04-06'),\n",
       " ('Piccadilly Jim', '2005.0', '1917-02-24'),\n",
       " ('Something New', '2042.0', '1915-09-16'),\n",
       " ('The Expedition of Humphry Clinker', '2160.0', '1771-06-17'),\n",
       " ('The Poor Clare', '2548.0', '1856-12-27'),\n",
       " ('Psmith, Journalist', '2607.0', '1915-09-29'),\n",
       " ('The Last Chronicle of Barset', '3045.0', '1866-12-01'),\n",
       " ('The Mysteries of Udolpho', '3268.0', '1794-05-08'),\n",
       " ('The Ragged Trousered Philanthropists', '3608.0', '1914-04-23'),\n",
       " (\"The Duke's Children\", '3622.0', '1879-10-04'),\n",
       " ('The Intrusion of Jimmy', '4075.0', '1910-05-11'),\n",
       " ('A Portrait of the Artist as a Young Man', '4217.0', '1916-12-29'),\n",
       " ('Ulysses', '4300.0', '1922-02-02'),\n",
       " ('The Belton Estate', '4969.0', '1865-05-15'),\n",
       " (\"Jacob's Room\", '5670.0', '1922-10-26'),\n",
       " ('Castle Richmond', '5897.0', '1860-05-10'),\n",
       " ('The Fortunes of Nigel', '5950.0', '1822-05-29'),\n",
       " ('Peveril of the Peak', '5959.0', '1823-01-07'),\n",
       " (\"Waverley; Or, 'Tis Sixty Years Since\", '5998.0', '1814-07-07'),\n",
       " ('The Betrothed', '6490.0', '1825-06-22'),\n",
       " ('The Little Nugget', '6683.0', '1914-02-10'),\n",
       " ('Psmith in the City', '6753.0', '1910-09-23'),\n",
       " (\"The Head of Kay's\", '6877.0', '1905-10-05'),\n",
       " ('The Gold Bat', '6879.0', '1904-09-13'),\n",
       " ('The Coming of Bill', '6880.0', '1920-07-01'),\n",
       " ('The White Feather', '6927.0', '1907-10-09'),\n",
       " ('The Prince and Betty', '6955.0', '1912-02-14'),\n",
       " ('The Pothunters', '6984.0', '1902-09-18'),\n",
       " (\"A Prefect's Uncle\", '6985.0', '1903-09-11'),\n",
       " ('Mike', '7423.0', '1909-09-15'),\n",
       " ('Quentin Durward', '7853.0', '1823-05-17'),\n",
       " (\"The Fair Maid of Perth; Or, St. Valentine's Day\", '7987.0', '1828-05-15'),\n",
       " ('Woodstock; or, the Cavalier', '9785.0', '1826-04-28'),\n",
       " ('Right Ho, Jeeves', '10554.0', '1934-10-05'),\n",
       " ('Phineas Redux', '18640.0', '1873-07-19'),\n",
       " (\"Alice's Adventures in Wonderland\", '19033.0', '1865-11-26'),\n",
       " ('The Cricket on the Hearth', '20795.0', '1845-12-20'),\n",
       " (\"Alice's Adventures in Wonderland: Illustrated by Arthur Rackham. With a Proem by Austin Dobson\",\n",
       "  '28885.0',\n",
       "  '1865-11-26'),\n",
       " ('The Cricket on the Hearth: A Fairy Tale of Home', '37581.0', '1845-12-20'),\n",
       " ('\"I Believe\" and other essays', '41178.0', '2014-11-07'),\n",
       " ('Pride and Prejudice', '42671.0', '1813-01-28')]"
      ]
     },
     "execution_count": 48,
     "metadata": {},
     "output_type": "execute_result"
    }
   ],
   "source": [
    "list(filter((lambda x: x[2] != ''), wpData))"
   ]
  },
  {
   "cell_type": "markdown",
   "metadata": {},
   "source": [
    "This doesn't really help--there are only a few works between 1840 and 1860 here, and I think I already have them in the other collection."
   ]
  },
  {
   "cell_type": "markdown",
   "metadata": {},
   "source": [
    "See if books in Corpus-DB have Wikipedia categories like \"1840 British Novels.\" "
   ]
  },
  {
   "cell_type": "code",
   "execution_count": 56,
   "metadata": {},
   "outputs": [],
   "source": [
    "wpSubjectPatterns = [\"%s_novels\" % year for year in range(1840, 1860)] + \\\n",
    "  [\"%s_British_novels\" % year for year in range(1840, 1860)]"
   ]
  },
  {
   "cell_type": "code",
   "execution_count": 67,
   "metadata": {},
   "outputs": [],
   "source": [
    "queryFrags = ['or wp_subjects like \"%' + subj + '%\"' for subj in wpSubjectPatterns]"
   ]
  },
  {
   "cell_type": "code",
   "execution_count": 73,
   "metadata": {},
   "outputs": [],
   "source": [
    "queryFrags[0] = queryFrags[0][3:] # Chop off the \"or\" for the first one"
   ]
  },
  {
   "cell_type": "code",
   "execution_count": 77,
   "metadata": {},
   "outputs": [],
   "source": [
    "query = 'SELECT title, id, wp_publication_date from meta where \"LCC\" like \"%PR%\" and languages like \"%en%\" and (' + \\\n",
    "\" \".join(queryFrags) + \")\""
   ]
  },
  {
   "cell_type": "code",
   "execution_count": 80,
   "metadata": {},
   "outputs": [],
   "source": [
    "dataWp = cur.execute(query).fetchall()"
   ]
  },
  {
   "cell_type": "code",
   "execution_count": 88,
   "metadata": {},
   "outputs": [
    {
     "data": {
      "text/plain": [
       "[(\"Barnaby Rudge: A Tale of the Riots of 'Eighty\", '917.0', ''),\n",
       " ('Cranford', '394.0', ''),\n",
       " ('Georgian Poetry 1920-22', '9640.0', ''),\n",
       " ('Hypatia — or New Foes with an Old Face', '6308.0', ''),\n",
       " ('Lavengro: The Scholar - The Gypsy - The Priest, Vol. 2 (of 2)',\n",
       "  '22878.0',\n",
       "  ''),\n",
       " ('Lavengro: The Scholar, The Gypsy, The Priest', '30792.0', ''),\n",
       " ('Lavengro: The Scholar, the Gypsy, the Priest', '23287.0', ''),\n",
       " ('Lavengro: The Scholar, the Gypsy, the Priest', '452.0', ''),\n",
       " ('Lavengro: the Scholar - the Gypsy - the Priest', '20198.0', ''),\n",
       " ('Loss and Gain: The Story of a Convert', '24574.0', ''),\n",
       " ('Mary Barton', '2153.0', ''),\n",
       " ('My Lady Ludlow', '2524.0', ''),\n",
       " ('North and South', '4276.0', ''),\n",
       " ('Percival Keene', '21572.0', ''),\n",
       " ('Phantastes: A Faerie Romance for Men and Women', '325.0', ''),\n",
       " ('Ruth', '4275.0', ''),\n",
       " ('The Caxtons: A Family Picture — Complete', '7605.0', ''),\n",
       " (\"The Haunted Man and the Ghost's Bargain\", '644.0', '1848-12-19'),\n",
       " ('The Heir of Redclyffe', '2505.0', ''),\n",
       " ('The History of Henry Esmond, Esq., a Colonel in the Service of Her Majesty Queen Anne',\n",
       "  '2511.0',\n",
       "  ''),\n",
       " ('The Last of the Barons — Complete', '7727.0', ''),\n",
       " ('The Newcomes: Memoirs of a Most Respectable Family', '7467.0', ''),\n",
       " ('The Ordeal of Richard Feverel: A History of a Father and Son',\n",
       "  '34858.0',\n",
       "  ''),\n",
       " ('The Tower of London: A Historical Romance, Illustrated', '49850.0', ''),\n",
       " ('The Virginians', '8123.0', ''),\n",
       " (\"Tom Brown's School Days\", '1480.0', ''),\n",
       " (\"Tom Brown's School Days\", '32224.0', ''),\n",
       " ('Westward Ho! Or, The Voyages and Adventures of Sir Amyas Leigh, Knight, of Burrough, in the County of Devon, in the Reign of Her Most Glorious Majesty Queen Elizabeth',\n",
       "  '1860.0',\n",
       "  ''),\n",
       " ('Zanoni', '2664.0', '')]"
      ]
     },
     "execution_count": 88,
     "metadata": {},
     "output_type": "execute_result"
    }
   ],
   "source": [
    "wpAdditions = [x for x in dataWp if x[1] not in [book[1] for book in data]]\n",
    "sorted(wpAdditions) "
   ]
  },
  {
   "cell_type": "markdown",
   "metadata": {},
   "source": [
    "Dedupe this list, too. "
   ]
  },
  {
   "cell_type": "code",
   "execution_count": 100,
   "metadata": {},
   "outputs": [],
   "source": [
    "wpDupes = [22878, 23287, 452, 20198, 1480]"
   ]
  },
  {
   "cell_type": "code",
   "execution_count": 101,
   "metadata": {},
   "outputs": [],
   "source": [
    "allDupes = [str(float(x)) for x in (dupes + wpDupes)]"
   ]
  },
  {
   "cell_type": "code",
   "execution_count": 102,
   "metadata": {},
   "outputs": [
    {
     "data": {
      "text/plain": [
       "['19337.0',\n",
       " '46.0',\n",
       " '30368.0',\n",
       " '2432.0',\n",
       " '6054.0',\n",
       " '20795.0',\n",
       " '678.0',\n",
       " '12954.0',\n",
       " '22496.0',\n",
       " '4401.0',\n",
       " '4402.0',\n",
       " '4404.0',\n",
       " '22878.0',\n",
       " '23287.0',\n",
       " '452.0',\n",
       " '20198.0',\n",
       " '1480.0']"
      ]
     },
     "execution_count": 102,
     "metadata": {},
     "output_type": "execute_result"
    }
   ],
   "source": [
    "allDupes"
   ]
  },
  {
   "cell_type": "markdown",
   "metadata": {},
   "source": [
    "Next, manually go through Wikipedia pages like [1840 British Novels](https://en.wikipedia.org/wiki/Category:1840_British_novels), and grab any books that have etexts on Project Gutenberg that we haven't already found automatically. "
   ]
  },
  {
   "cell_type": "code",
   "execution_count": 89,
   "metadata": {},
   "outputs": [],
   "source": [
    "manualAdditions = [\n",
    "    37750, # Guy Fawkes, 1840\n",
    "    16215, # Jack Sheppard, 1840\n",
    "    21575, # Poor Jack, 1840\n",
    "    11082, # Old Saint Paul's, 1841\n",
    "    31004, # Ten thousand a-year, 1841\n",
    "    36481, # Auriol, 1844\n",
    "    20004, # Tancred, 1847\n",
    "    15493, # Lancashire Witches, 1849\n",
    "    7265, # Pendennis, 1850\n",
    "    46733, # String of Pearls, 1850\n",
    "    4644,  # Verdant Green, 1853\n",
    "    38949, # Charles Auchester, 1853\n",
    "    30664, # Callista, 1855\n",
    "    56621, # Aurora Leigh, 1856\n",
    "    646 # Coral Island, 1858   \n",
    "]"
   ]
  },
  {
   "cell_type": "code",
   "execution_count": 103,
   "metadata": {},
   "outputs": [],
   "source": [
    "masterListIDs = [x[1] for x in data] + [x[1] for x in wpAdditions] + [str(float(x)) for x in manualAdditions]\n",
    "masterListIDs = [x for x in masterListIDs if x not in allDupes]"
   ]
  },
  {
   "cell_type": "code",
   "execution_count": 105,
   "metadata": {},
   "outputs": [
    {
     "data": {
      "text/plain": [
       "159"
      ]
     },
     "execution_count": 105,
     "metadata": {},
     "output_type": "execute_result"
    }
   ],
   "source": [
    "len(masterListIDs)"
   ]
  },
  {
   "cell_type": "code",
   "execution_count": 112,
   "metadata": {},
   "outputs": [],
   "source": [
    "metadata = pd.read_sql_query('SELECT * from meta where id in (%s)' % ','.join('?'*len(masterListIDs)), conn, params=masterListIDs)"
   ]
  },
  {
   "cell_type": "code",
   "execution_count": 114,
   "metadata": {},
   "outputs": [
    {
     "name": "stderr",
     "output_type": "stream",
     "text": [
      "/home/jon/.local/lib/python3.6/site-packages/pandas/core/generic.py:1299: PerformanceWarning: \n",
      "your performance may suffer as PyTables will pickle object types that it cannot\n",
      "map directly to c-types [inferred_type->mixed,key->block1_values] [items->['', 'LCC', 'author', 'authoryearofbirth', 'authoryearofdeath', 'downloads', 'formats', 'id', 'languages', 'lcsh', 'title', 'type', '_repo', '_version', 'alternative_title', 'contributor', 'covers', 'creator', 'description', 'edition_identifiers', 'edition_note', 'gutenberg_bookshelf', 'gutenberg_issued', 'gutenberg_type', 'identifiers', 'jmdate', 'subjects', 'language_note', 'production_note', 'publication_date', 'publication_note', 'publisher', 'rights', 'rights_url', 'series_note', 'summary', 'tableOfContents', 'titlepage_image', 'url', 'wikipedia', 'filename', 'releaseDate', 'wp_publication_date', 'wp_subjects', 'wp_info', 'wp_literary_genres', 'gr_rating', 'gr_numReviews', 'gr_pubDate', 'gr_id', 'gr_info', 'gr_author_id', 'gr_image_url', 'gr_small_image_url', 'am_title', 'am_author', 'am_cat', 'am_cat_ancestors', 'am_genre', 'am_editorial_reviews', 'am_sales_rank', 'am_isbn', 'vector', 'vecType', 'vectorType']]\n",
      "\n",
      "  return pytables.to_hdf(path_or_buf, key, self, **kwargs)\n"
     ]
    }
   ],
   "source": [
    "metadata.to_hdf('pr-1840-1860.hdf', 'meta')"
   ]
  },
  {
   "cell_type": "code",
   "execution_count": 115,
   "metadata": {},
   "outputs": [],
   "source": [
    "texts = pd.read_sql_query('SELECT * from text where id in (%s)' % ','.join('?'*len(masterListIDs)), conn, params=masterListIDs)"
   ]
  },
  {
   "cell_type": "code",
   "execution_count": 116,
   "metadata": {},
   "outputs": [
    {
     "data": {
      "text/plain": [
       "147"
      ]
     },
     "execution_count": 116,
     "metadata": {},
     "output_type": "execute_result"
    }
   ],
   "source": [
    "len(texts)"
   ]
  },
  {
   "cell_type": "code",
   "execution_count": 118,
   "metadata": {},
   "outputs": [],
   "source": [
    "texts.to_hdf('pr-1840-1860-texts.hdf', 'text')"
   ]
  }
 ],
 "metadata": {
  "kernelspec": {
   "display_name": "Python 3",
   "language": "python",
   "name": "python3"
  },
  "language_info": {
   "codemirror_mode": {
    "name": "ipython",
    "version": 3
   },
   "file_extension": ".py",
   "mimetype": "text/x-python",
   "name": "python",
   "nbconvert_exporter": "python",
   "pygments_lexer": "ipython3",
   "version": "3.6.5"
  }
 },
 "nbformat": 4,
 "nbformat_minor": 2
}
